{
 "cells": [
  {
   "cell_type": "markdown",
   "metadata": {},
   "source": [
    "到底需要那种`multiprocessing`呢？\n",
    "\n",
    "- `multiprocessing.Process()`: 单纯且死板的适合多个相同或者不同的function同时运行\n",
    "- `multiprocessing.Pool()`: 适合需要创建大量子进程，并且灵活选择core个数，最后非常适合`map` \n",
    "    - `pool.map()`: 支持单一input\n",
    "    - [`pool.starmap()`](https://stackoverflow.com/questions/5442910/how-to-use-multiprocessing-pool-map-with-multiple-arguments): 支持多input"
   ]
  },
  {
   "cell_type": "code",
   "execution_count": 1,
   "metadata": {
    "ExecuteTime": {
     "end_time": "2021-03-26T22:55:52.070859Z",
     "start_time": "2021-03-26T22:55:52.016383Z"
    }
   },
   "outputs": [],
   "source": [
    "import multiprocessing as mp\n",
    "from tqdm.notebook import tqdm\n",
    "import random\n",
    "import string\n",
    "\n",
    "random.seed(123)"
   ]
  },
  {
   "cell_type": "markdown",
   "metadata": {
    "ExecuteTime": {
     "end_time": "2021-03-26T19:10:12.790044Z",
     "start_time": "2021-03-26T19:10:12.681118Z"
    }
   },
   "source": [
    "# `multiprocessing.Process()`"
   ]
  },
  {
   "cell_type": "code",
   "execution_count": 2,
   "metadata": {
    "ExecuteTime": {
     "end_time": "2021-03-26T22:57:21.969232Z",
     "start_time": "2021-03-26T22:55:52.073488Z"
    },
    "code_folding": [
     4,
     14
    ]
   },
   "outputs": [
    {
     "name": "stdout",
     "output_type": "stream",
     "text": [
      "CPU times: user 20 ms, sys: 8 ms, total: 28 ms\n",
      "Wall time: 1min 29s\n"
     ]
    }
   ],
   "source": [
    "%%time\n",
    "\n",
    "import multiprocessing  as mp\n",
    "\n",
    "def func1(q, a, d, n):\n",
    "    \n",
    "    res = []\n",
    "    \n",
    "    for i in tqdm(range(n)):\n",
    "\n",
    "        res.append(i + i**a + i**d)\n",
    "        \n",
    "    q.put(sum(res))    # 使用mp.Process的话不能return，要用专门的容器装输出\n",
    "    \n",
    "def func2(q, a, d, n):\n",
    "    \n",
    "    res = []\n",
    "    \n",
    "    for i in tqdm(range(n)):\n",
    "\n",
    "        res.append(i + i*a + i*d)\n",
    "        \n",
    "    q.put(sum(res))    # 使用mp.Process的话不能return，要用专门的容器装输出\n",
    "    \n",
    "\n",
    "q = mp.Queue()    # 此处选择Queue这个容器，先进先出\n",
    "p1 = mp.Process(target = func1, args = (q, 1, 2, 100000000))  # args 给出需要运行的参数\n",
    "p2 = mp.Process(target = func2, args = (q, 1, 2, 100000000))\n",
    "\n",
    "p1.start()\n",
    "p2.start()\n",
    "p1.join()\n",
    "p2.join()\n",
    "\n",
    "res1 = q.get()\n",
    "res2 = q.get()"
   ]
  },
  {
   "cell_type": "code",
   "execution_count": 3,
   "metadata": {
    "ExecuteTime": {
     "end_time": "2021-03-26T22:57:21.979437Z",
     "start_time": "2021-03-26T22:57:21.972360Z"
    },
    "scrolled": true
   },
   "outputs": [
    {
     "data": {
      "text/plain": [
       "333333358333333050000000"
      ]
     },
     "execution_count": 3,
     "metadata": {},
     "output_type": "execute_result"
    }
   ],
   "source": [
    "res1+res2"
   ]
  },
  {
   "cell_type": "code",
   "execution_count": 4,
   "metadata": {
    "ExecuteTime": {
     "end_time": "2021-03-26T22:59:36.696775Z",
     "start_time": "2021-03-26T22:57:21.981996Z"
    }
   },
   "outputs": [
    {
     "data": {
      "application/vnd.jupyter.widget-view+json": {
       "model_id": "7f2e00924ae94229908998c422bd0389",
       "version_major": 2,
       "version_minor": 0
      },
      "text/plain": [
       "  0%|          | 0/100000000 [00:00<?, ?it/s]"
      ]
     },
     "metadata": {},
     "output_type": "display_data"
    },
    {
     "name": "stdout",
     "output_type": "stream",
     "text": [
      "CPU times: user 2min 8s, sys: 7.61 s, total: 2min 16s\n",
      "Wall time: 2min 14s\n"
     ]
    }
   ],
   "source": [
    "%%time\n",
    "\n",
    "res1 = []\n",
    "res2 = []\n",
    "\n",
    "for i in tqdm(range(100000000)):\n",
    "    \n",
    "        res1.append(i + i**1 + i**2)\n",
    "        res2.append(i + i*1 + i*2)\n",
    "         \n",
    "res1 = sum(res1)\n",
    "res2 = sum(res2)"
   ]
  },
  {
   "cell_type": "code",
   "execution_count": 5,
   "metadata": {
    "ExecuteTime": {
     "end_time": "2021-03-26T22:59:36.707907Z",
     "start_time": "2021-03-26T22:59:36.700742Z"
    }
   },
   "outputs": [
    {
     "data": {
      "text/plain": [
       "333333358333333050000000"
      ]
     },
     "execution_count": 5,
     "metadata": {},
     "output_type": "execute_result"
    }
   ],
   "source": [
    "res1+res2"
   ]
  },
  {
   "cell_type": "markdown",
   "metadata": {},
   "source": [
    "很明显这样的一个for loop两个append的任务，multiprocess要快一倍"
   ]
  },
  {
   "cell_type": "markdown",
   "metadata": {},
   "source": [
    "# `multiprocessing.Pool()`\n",
    "\n",
    "\n",
    "如果要启动大量的子进程，可以用进程池的方式批量创建子进程：\n",
    "\n",
    "**Note**: 还有一个东西叫`multiprocessing.dummy`，也能`import Pool`. 但是这玩意儿是个摆设, 因为它采用的是Threading。"
   ]
  },
  {
   "cell_type": "markdown",
   "metadata": {},
   "source": [
    "## `pool.map`: 只接收一个argument"
   ]
  },
  {
   "cell_type": "code",
   "execution_count": 6,
   "metadata": {
    "ExecuteTime": {
     "end_time": "2021-03-26T23:00:30.754995Z",
     "start_time": "2021-03-26T22:59:36.711163Z"
    }
   },
   "outputs": [
    {
     "data": {
      "application/vnd.jupyter.widget-view+json": {
       "model_id": "b2f70ee3aec8459e88ddf2c5f23c04f4",
       "version_major": 2,
       "version_minor": 0
      },
      "text/plain": [
       "  0%|          | 0/100000000 [00:01<?, ?it/s]"
      ]
     },
     "metadata": {},
     "output_type": "display_data"
    }
   ],
   "source": [
    "import multiprocessing as mp\n",
    "\n",
    "def job(x):\n",
    "    return x**2 \n",
    "\n",
    "cores = mp.cpu_count()\n",
    "pool = mp.Pool(processes=2)\n",
    "\n",
    "res = list(tqdm(pool.map(job,  range(100000000))))"
   ]
  },
  {
   "cell_type": "code",
   "execution_count": 9,
   "metadata": {
    "ExecuteTime": {
     "end_time": "2021-03-26T23:25:30.189731Z",
     "start_time": "2021-03-26T23:24:32.650672Z"
    }
   },
   "outputs": [
    {
     "data": {
      "application/vnd.jupyter.widget-view+json": {
       "model_id": "ad66b1557bcd4f58a02568509324cd2e",
       "version_major": 2,
       "version_minor": 0
      },
      "text/plain": [
       "  0%|          | 0/100000000 [00:00<?, ?it/s]"
      ]
     },
     "metadata": {},
     "output_type": "display_data"
    }
   ],
   "source": [
    "import multiprocessing as mp\n",
    "\n",
    "def job(x):\n",
    "    return x**2 \n",
    "\n",
    "cores = mp.cpu_count()\n",
    "pool = mp.Pool(processes=2)\n",
    "\n",
    "res = list(tqdm(pool.map(job,  range(100000000))))"
   ]
  },
  {
   "cell_type": "code",
   "execution_count": 10,
   "metadata": {
    "ExecuteTime": {
     "end_time": "2021-03-26T23:25:32.890578Z",
     "start_time": "2021-03-26T23:25:30.193603Z"
    }
   },
   "outputs": [
    {
     "data": {
      "text/plain": [
       "333333328333333350000000"
      ]
     },
     "execution_count": 10,
     "metadata": {},
     "output_type": "execute_result"
    }
   ],
   "source": [
    "sum(res)"
   ]
  },
  {
   "cell_type": "code",
   "execution_count": 11,
   "metadata": {
    "ExecuteTime": {
     "end_time": "2021-03-26T23:40:17.493623Z",
     "start_time": "2021-03-26T23:25:32.893838Z"
    }
   },
   "outputs": [
    {
     "data": {
      "application/vnd.jupyter.widget-view+json": {
       "model_id": "c7ad8a6ff5a84f2a92a5426d629f2abb",
       "version_major": 2,
       "version_minor": 0
      },
      "text/plain": [
       "  0%|          | 0/100000000 [00:00<?, ?it/s]"
      ]
     },
     "metadata": {},
     "output_type": "display_data"
    }
   ],
   "source": [
    "import multiprocessing as mp\n",
    "\n",
    "cores = mp.cpu_count()\n",
    "pool = mp.Pool(processes=8)\n",
    "\n",
    "res = list(tqdm(pool.map(job,  range(100000000), 3)))"
   ]
  },
  {
   "cell_type": "code",
   "execution_count": 12,
   "metadata": {
    "ExecuteTime": {
     "end_time": "2021-03-26T23:40:20.371590Z",
     "start_time": "2021-03-26T23:40:17.497325Z"
    }
   },
   "outputs": [
    {
     "data": {
      "text/plain": [
       "333333328333333350000000"
      ]
     },
     "execution_count": 12,
     "metadata": {},
     "output_type": "execute_result"
    }
   ],
   "source": [
    "sum(res)"
   ]
  },
  {
   "cell_type": "markdown",
   "metadata": {},
   "source": [
    "更多核看起来运算还是要快一些"
   ]
  },
  {
   "cell_type": "markdown",
   "metadata": {},
   "source": [
    "## `pool.starmap`: 可接收多个argument\n",
    "\n",
    "`starmap`拯救了世界，不过还是需要用`zip`将argument给wrap起来"
   ]
  },
  {
   "cell_type": "code",
   "execution_count": 13,
   "metadata": {
    "ExecuteTime": {
     "end_time": "2021-03-26T23:40:23.025199Z",
     "start_time": "2021-03-26T23:40:20.373754Z"
    }
   },
   "outputs": [
    {
     "data": {
      "application/vnd.jupyter.widget-view+json": {
       "model_id": "f0163440cd2042598f6bc46ba005e18a",
       "version_major": 2,
       "version_minor": 0
      },
      "text/plain": [
       "  0%|          | 0/10 [00:00<?, ?it/s]"
      ]
     },
     "metadata": {},
     "output_type": "display_data"
    },
    {
     "data": {
      "text/plain": [
       "[0, 2, 6, 12, 20, 30, 42, 56, 72, 90]"
      ]
     },
     "execution_count": 13,
     "metadata": {},
     "output_type": "execute_result"
    }
   ],
   "source": [
    "import multiprocessing as mp\n",
    "\n",
    "def job(x, var):\n",
    "    return x**2 + var\n",
    "\n",
    "cores = mp.cpu_count()\n",
    "pool = mp.Pool(processes=2)\n",
    "\n",
    "list(tqdm(pool.starmap(job,  zip(range(10), range(100)))))   # 以第一个arg长度为主"
   ]
  },
  {
   "cell_type": "code",
   "execution_count": 14,
   "metadata": {
    "ExecuteTime": {
     "end_time": "2021-03-26T23:40:23.060590Z",
     "start_time": "2021-03-26T23:40:23.028271Z"
    }
   },
   "outputs": [
    {
     "data": {
      "application/vnd.jupyter.widget-view+json": {
       "model_id": "922c3f9998714388b046969a5514b764",
       "version_major": 2,
       "version_minor": 0
      },
      "text/plain": [
       "0it [00:00, ?it/s]"
      ]
     },
     "metadata": {},
     "output_type": "display_data"
    },
    {
     "data": {
      "text/plain": [
       "[0, 2, 6, 12, 20, 30, 42, 56, 72, 90]"
      ]
     },
     "execution_count": 14,
     "metadata": {},
     "output_type": "execute_result"
    }
   ],
   "source": [
    "# 单纯的`map`倒是可以为所欲为\n",
    "\n",
    "list(tqdm(map(job, range(10), range(100))))  "
   ]
  },
  {
   "cell_type": "markdown",
   "metadata": {},
   "source": [
    "# `multiprocessing.dummy`\n",
    "\n",
    "还有一个东西叫`multiprocessing.dummy`，也能`import Pool`. 但是这玩意儿是个摆设, 因为它采用的是Threading。"
   ]
  },
  {
   "cell_type": "code",
   "execution_count": 15,
   "metadata": {
    "ExecuteTime": {
     "end_time": "2021-03-26T23:40:23.067894Z",
     "start_time": "2021-03-26T23:40:23.062784Z"
    }
   },
   "outputs": [],
   "source": [
    "from multiprocessing.dummy import Pool as ThreadPool"
   ]
  },
  {
   "cell_type": "code",
   "execution_count": 16,
   "metadata": {
    "ExecuteTime": {
     "end_time": "2021-03-26T23:41:29.202219Z",
     "start_time": "2021-03-26T23:40:23.071123Z"
    }
   },
   "outputs": [
    {
     "data": {
      "application/vnd.jupyter.widget-view+json": {
       "model_id": "a56704988132473181697b42e319d9e4",
       "version_major": 2,
       "version_minor": 0
      },
      "text/plain": [
       "  0%|          | 0/100000000 [00:00<?, ?it/s]"
      ]
     },
     "metadata": {},
     "output_type": "display_data"
    }
   ],
   "source": [
    "pool = ThreadPool(2)\n",
    "\n",
    "\n",
    "def job(x):\n",
    "    return x**2\n",
    "\n",
    "\n",
    "res = list(tqdm(pool.map(job,  range(100000000))))"
   ]
  },
  {
   "cell_type": "code",
   "execution_count": 17,
   "metadata": {
    "ExecuteTime": {
     "end_time": "2021-03-26T23:41:31.914048Z",
     "start_time": "2021-03-26T23:41:29.204616Z"
    }
   },
   "outputs": [
    {
     "data": {
      "text/plain": [
       "333333328333333350000000"
      ]
     },
     "execution_count": 17,
     "metadata": {},
     "output_type": "execute_result"
    }
   ],
   "source": [
    "sum(res)"
   ]
  },
  {
   "cell_type": "code",
   "execution_count": 18,
   "metadata": {
    "ExecuteTime": {
     "end_time": "2021-03-26T23:42:37.941091Z",
     "start_time": "2021-03-26T23:41:31.916496Z"
    }
   },
   "outputs": [
    {
     "data": {
      "application/vnd.jupyter.widget-view+json": {
       "model_id": "08c83769ebc94e21bd4b7426040c32fa",
       "version_major": 2,
       "version_minor": 0
      },
      "text/plain": [
       "  0%|          | 0/100000000 [00:00<?, ?it/s]"
      ]
     },
     "metadata": {},
     "output_type": "display_data"
    }
   ],
   "source": [
    "pool = ThreadPool(8)\n",
    "\n",
    "def job(x):\n",
    "    return x**2\n",
    "\n",
    "\n",
    "res = list(tqdm(pool.map(job,  range(100000000))))"
   ]
  },
  {
   "cell_type": "code",
   "execution_count": 19,
   "metadata": {
    "ExecuteTime": {
     "end_time": "2021-03-26T23:42:40.659322Z",
     "start_time": "2021-03-26T23:42:37.943544Z"
    }
   },
   "outputs": [
    {
     "data": {
      "text/plain": [
       "333333328333333350000000"
      ]
     },
     "execution_count": 19,
     "metadata": {},
     "output_type": "execute_result"
    }
   ],
   "source": [
    "sum(res)"
   ]
  },
  {
   "cell_type": "code",
   "execution_count": null,
   "metadata": {},
   "outputs": [],
   "source": []
  },
  {
   "cell_type": "markdown",
   "metadata": {
    "ExecuteTime": {
     "end_time": "2021-03-26T21:30:31.419065Z",
     "start_time": "2021-03-26T21:30:31.414155Z"
    }
   },
   "source": [
    "# Shared Memory\n",
    "\n",
    "不同进程可以共享的值"
   ]
  },
  {
   "cell_type": "code",
   "execution_count": 20,
   "metadata": {
    "ExecuteTime": {
     "end_time": "2021-03-26T23:42:44.403286Z",
     "start_time": "2021-03-26T23:42:40.662001Z"
    }
   },
   "outputs": [
    {
     "name": "stdout",
     "output_type": "stream",
     "text": [
      "1\n",
      "2\n",
      "3\n",
      "4\n",
      "5\n",
      "6\n",
      "7\n",
      "8\n",
      "9\n",
      "10\n",
      "11\n",
      "12\n",
      "13\n",
      "14\n",
      "15\n",
      "16\n",
      "17\n",
      "18\n",
      "19\n",
      "20\n"
     ]
    }
   ],
   "source": [
    "import multiprocessing\n",
    "import time\n",
    "\n",
    "def job(v, num, l):\n",
    "    l.acquire()\n",
    "    \n",
    "    for _ in range(10):\n",
    "        time.sleep(0.1)\n",
    "        v.value += num\n",
    "        print(v.value)\n",
    "    \n",
    "    \n",
    "    l.release()\n",
    "\n",
    "\n",
    "    \n",
    "l = mp.Lock()    \n",
    "v = multiprocessing.Value('i',0)\n",
    "#array = multiprocessing.Array('i', [1,2,3])\n",
    "\n",
    "\n",
    "p1 = mp.Process(target = job, args = (v, 1, l))  # args 给出需要运行的参数\n",
    "p2 = mp.Process(target = job, args = (v, 1, l))\n",
    "\n",
    "p1.start()\n",
    "p2.start()\n",
    "p1.join()\n",
    "p2.join()"
   ]
  },
  {
   "cell_type": "code",
   "execution_count": null,
   "metadata": {},
   "outputs": [],
   "source": []
  },
  {
   "cell_type": "code",
   "execution_count": null,
   "metadata": {},
   "outputs": [],
   "source": []
  },
  {
   "cell_type": "code",
   "execution_count": null,
   "metadata": {},
   "outputs": [],
   "source": []
  },
  {
   "cell_type": "code",
   "execution_count": null,
   "metadata": {},
   "outputs": [],
   "source": []
  },
  {
   "cell_type": "code",
   "execution_count": null,
   "metadata": {},
   "outputs": [],
   "source": []
  },
  {
   "cell_type": "code",
   "execution_count": null,
   "metadata": {},
   "outputs": [],
   "source": []
  }
 ],
 "metadata": {
  "kernelspec": {
   "display_name": "dakwei_dev",
   "language": "python",
   "name": "dakwei_dev"
  },
  "language_info": {
   "codemirror_mode": {
    "name": "ipython",
    "version": 3
   },
   "file_extension": ".py",
   "mimetype": "text/x-python",
   "name": "python",
   "nbconvert_exporter": "python",
   "pygments_lexer": "ipython3",
   "version": "3.7.4"
  },
  "toc": {
   "base_numbering": 1,
   "nav_menu": {},
   "number_sections": true,
   "sideBar": true,
   "skip_h1_title": false,
   "title_cell": "Table of Contents",
   "title_sidebar": "Contents",
   "toc_cell": false,
   "toc_position": {},
   "toc_section_display": true,
   "toc_window_display": false
  }
 },
 "nbformat": 4,
 "nbformat_minor": 2
}
